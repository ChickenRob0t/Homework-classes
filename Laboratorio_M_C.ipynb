{
  "nbformat": 4,
  "nbformat_minor": 0,
  "metadata": {
    "colab": {
      "provenance": [],
      "authorship_tag": "ABX9TyNVQ94XWCo5Whz0mMEaJARO",
      "include_colab_link": true
    },
    "kernelspec": {
      "name": "python3",
      "display_name": "Python 3"
    },
    "language_info": {
      "name": "python"
    }
  },
  "cells": [
    {
      "cell_type": "markdown",
      "metadata": {
        "id": "view-in-github",
        "colab_type": "text"
      },
      "source": [
        "<a href=\"https://colab.research.google.com/github/ChickenRob0t/Homework-classes/blob/Continuum-Mechanics/Laboratorio_M_C.ipynb\" target=\"_parent\"><img src=\"https://colab.research.google.com/assets/colab-badge.svg\" alt=\"Open In Colab\"/></a>"
      ]
    },
    {
      "cell_type": "code",
      "execution_count": 2,
      "metadata": {
        "id": "Tp7qi1WxhbgF"
      },
      "outputs": [],
      "source": [
        "import numpy as np\n",
        "import matplotlib.pyplot as plt\n",
        "import pandas as pd\n",
        "import sklearn as skl\n",
        "from sklearn import linear_model as lm"
      ]
    },
    {
      "cell_type": "code",
      "source": [
        "#La descripción de lo que estamos calculando en el código se encuentra en el PDF anexado.\n",
        "g=9.81\n",
        "r_p=5.074/(2*100)  #Radio de la polea en metros\n",
        "r_b=7.42/(2*1000)  #Radio de la barra en metros\n",
        "l_b=23.6/100       #Longitud de la barra en metros"
      ],
      "metadata": {
        "id": "nrC9qvXPze_f"
      },
      "execution_count": 1,
      "outputs": []
    },
    {
      "cell_type": "code",
      "source": [
        "#Los ángulos tienen un problema, están algo desfasados \n",
        "an_mal=np.array([273.23,222.892,156.881,105.967,64.71,347.95])\n",
        "an_bien=an_mal[0]-an_mal[:]  #Aquí acomodamos los ángulos \n",
        "an_bien[-1]=an_mal[-1]-86.764\n",
        "an_bien"
      ],
      "metadata": {
        "colab": {
          "base_uri": "https://localhost:8080/"
        },
        "id": "xmvQfFwZhjMW",
        "outputId": "e4c4e2c2-34f3-4430-c3ad-87628c044206"
      },
      "execution_count": 3,
      "outputs": [
        {
          "output_type": "execute_result",
          "data": {
            "text/plain": [
              "array([  0.   ,  50.338, 116.349, 167.263, 208.52 , 261.186])"
            ]
          },
          "metadata": {},
          "execution_count": 3
        }
      ]
    },
    {
      "cell_type": "code",
      "source": [
        "an_mal[:]"
      ],
      "metadata": {
        "colab": {
          "base_uri": "https://localhost:8080/"
        },
        "id": "tlLGaObVDKfe",
        "outputId": "c5ed4a47-d430-42d7-9b3b-506ce0f09392"
      },
      "execution_count": 4,
      "outputs": [
        {
          "output_type": "execute_result",
          "data": {
            "text/plain": [
              "array([273.23 , 222.892, 156.881, 105.967,  64.71 , 347.95 ])"
            ]
          },
          "metadata": {},
          "execution_count": 4
        }
      ]
    },
    {
      "cell_type": "code",
      "source": [
        "Datos=pd.DataFrame({'grados': an_bien})\n",
        "Datos['radianes']=Datos['grados']*np.pi/180\n",
        "Datos['masas_[g]']=[0,49.2,98.85,148.55,198.05,247.25]\n",
        "Datos['masas_[kg]']=Datos['masas_[g]']/1000\n",
        "Datos['Tau_[kg*m]']=Datos['masas_[kg]']*g*r_p\n",
        "\n"
      ],
      "metadata": {
        "id": "yDJBC61zh7xm"
      },
      "execution_count": null,
      "outputs": []
    },
    {
      "cell_type": "code",
      "source": [
        "Datos"
      ],
      "metadata": {
        "colab": {
          "base_uri": "https://localhost:8080/",
          "height": 237
        },
        "id": "w0_YPKxRpt14",
        "outputId": "54c9569f-7fb2-46a8-b86f-3bb1574cf742"
      },
      "execution_count": null,
      "outputs": [
        {
          "output_type": "execute_result",
          "data": {
            "text/plain": [
              "    grados  radianes  masas_[g]  masas_[kg]  Tau_[kg*m]\n",
              "0    0.000  0.000000       0.00     0.00000    0.000000\n",
              "1   50.338  0.878564      49.20     0.04920    0.012245\n",
              "2  116.349  2.030673      98.85     0.09885    0.024602\n",
              "3  167.263  2.919290     148.55     0.14855    0.036971\n",
              "4  208.520  3.639361     198.05     0.19805    0.049291\n",
              "5  261.186  4.558556     247.25     0.24725    0.061536"
            ],
            "text/html": [
              "\n",
              "  <div id=\"df-e007dc81-dc8f-487d-ba47-db79a50af0dc\">\n",
              "    <div class=\"colab-df-container\">\n",
              "      <div>\n",
              "<style scoped>\n",
              "    .dataframe tbody tr th:only-of-type {\n",
              "        vertical-align: middle;\n",
              "    }\n",
              "\n",
              "    .dataframe tbody tr th {\n",
              "        vertical-align: top;\n",
              "    }\n",
              "\n",
              "    .dataframe thead th {\n",
              "        text-align: right;\n",
              "    }\n",
              "</style>\n",
              "<table border=\"1\" class=\"dataframe\">\n",
              "  <thead>\n",
              "    <tr style=\"text-align: right;\">\n",
              "      <th></th>\n",
              "      <th>grados</th>\n",
              "      <th>radianes</th>\n",
              "      <th>masas_[g]</th>\n",
              "      <th>masas_[kg]</th>\n",
              "      <th>Tau_[kg*m]</th>\n",
              "    </tr>\n",
              "  </thead>\n",
              "  <tbody>\n",
              "    <tr>\n",
              "      <th>0</th>\n",
              "      <td>0.000</td>\n",
              "      <td>0.000000</td>\n",
              "      <td>0.00</td>\n",
              "      <td>0.00000</td>\n",
              "      <td>0.000000</td>\n",
              "    </tr>\n",
              "    <tr>\n",
              "      <th>1</th>\n",
              "      <td>50.338</td>\n",
              "      <td>0.878564</td>\n",
              "      <td>49.20</td>\n",
              "      <td>0.04920</td>\n",
              "      <td>0.012245</td>\n",
              "    </tr>\n",
              "    <tr>\n",
              "      <th>2</th>\n",
              "      <td>116.349</td>\n",
              "      <td>2.030673</td>\n",
              "      <td>98.85</td>\n",
              "      <td>0.09885</td>\n",
              "      <td>0.024602</td>\n",
              "    </tr>\n",
              "    <tr>\n",
              "      <th>3</th>\n",
              "      <td>167.263</td>\n",
              "      <td>2.919290</td>\n",
              "      <td>148.55</td>\n",
              "      <td>0.14855</td>\n",
              "      <td>0.036971</td>\n",
              "    </tr>\n",
              "    <tr>\n",
              "      <th>4</th>\n",
              "      <td>208.520</td>\n",
              "      <td>3.639361</td>\n",
              "      <td>198.05</td>\n",
              "      <td>0.19805</td>\n",
              "      <td>0.049291</td>\n",
              "    </tr>\n",
              "    <tr>\n",
              "      <th>5</th>\n",
              "      <td>261.186</td>\n",
              "      <td>4.558556</td>\n",
              "      <td>247.25</td>\n",
              "      <td>0.24725</td>\n",
              "      <td>0.061536</td>\n",
              "    </tr>\n",
              "  </tbody>\n",
              "</table>\n",
              "</div>\n",
              "      <button class=\"colab-df-convert\" onclick=\"convertToInteractive('df-e007dc81-dc8f-487d-ba47-db79a50af0dc')\"\n",
              "              title=\"Convert this dataframe to an interactive table.\"\n",
              "              style=\"display:none;\">\n",
              "        \n",
              "  <svg xmlns=\"http://www.w3.org/2000/svg\" height=\"24px\"viewBox=\"0 0 24 24\"\n",
              "       width=\"24px\">\n",
              "    <path d=\"M0 0h24v24H0V0z\" fill=\"none\"/>\n",
              "    <path d=\"M18.56 5.44l.94 2.06.94-2.06 2.06-.94-2.06-.94-.94-2.06-.94 2.06-2.06.94zm-11 1L8.5 8.5l.94-2.06 2.06-.94-2.06-.94L8.5 2.5l-.94 2.06-2.06.94zm10 10l.94 2.06.94-2.06 2.06-.94-2.06-.94-.94-2.06-.94 2.06-2.06.94z\"/><path d=\"M17.41 7.96l-1.37-1.37c-.4-.4-.92-.59-1.43-.59-.52 0-1.04.2-1.43.59L10.3 9.45l-7.72 7.72c-.78.78-.78 2.05 0 2.83L4 21.41c.39.39.9.59 1.41.59.51 0 1.02-.2 1.41-.59l7.78-7.78 2.81-2.81c.8-.78.8-2.07 0-2.86zM5.41 20L4 18.59l7.72-7.72 1.47 1.35L5.41 20z\"/>\n",
              "  </svg>\n",
              "      </button>\n",
              "      \n",
              "  <style>\n",
              "    .colab-df-container {\n",
              "      display:flex;\n",
              "      flex-wrap:wrap;\n",
              "      gap: 12px;\n",
              "    }\n",
              "\n",
              "    .colab-df-convert {\n",
              "      background-color: #E8F0FE;\n",
              "      border: none;\n",
              "      border-radius: 50%;\n",
              "      cursor: pointer;\n",
              "      display: none;\n",
              "      fill: #1967D2;\n",
              "      height: 32px;\n",
              "      padding: 0 0 0 0;\n",
              "      width: 32px;\n",
              "    }\n",
              "\n",
              "    .colab-df-convert:hover {\n",
              "      background-color: #E2EBFA;\n",
              "      box-shadow: 0px 1px 2px rgba(60, 64, 67, 0.3), 0px 1px 3px 1px rgba(60, 64, 67, 0.15);\n",
              "      fill: #174EA6;\n",
              "    }\n",
              "\n",
              "    [theme=dark] .colab-df-convert {\n",
              "      background-color: #3B4455;\n",
              "      fill: #D2E3FC;\n",
              "    }\n",
              "\n",
              "    [theme=dark] .colab-df-convert:hover {\n",
              "      background-color: #434B5C;\n",
              "      box-shadow: 0px 1px 3px 1px rgba(0, 0, 0, 0.15);\n",
              "      filter: drop-shadow(0px 1px 2px rgba(0, 0, 0, 0.3));\n",
              "      fill: #FFFFFF;\n",
              "    }\n",
              "  </style>\n",
              "\n",
              "      <script>\n",
              "        const buttonEl =\n",
              "          document.querySelector('#df-e007dc81-dc8f-487d-ba47-db79a50af0dc button.colab-df-convert');\n",
              "        buttonEl.style.display =\n",
              "          google.colab.kernel.accessAllowed ? 'block' : 'none';\n",
              "\n",
              "        async function convertToInteractive(key) {\n",
              "          const element = document.querySelector('#df-e007dc81-dc8f-487d-ba47-db79a50af0dc');\n",
              "          const dataTable =\n",
              "            await google.colab.kernel.invokeFunction('convertToInteractive',\n",
              "                                                     [key], {});\n",
              "          if (!dataTable) return;\n",
              "\n",
              "          const docLinkHtml = 'Like what you see? Visit the ' +\n",
              "            '<a target=\"_blank\" href=https://colab.research.google.com/notebooks/data_table.ipynb>data table notebook</a>'\n",
              "            + ' to learn more about interactive tables.';\n",
              "          element.innerHTML = '';\n",
              "          dataTable['output_type'] = 'display_data';\n",
              "          await google.colab.output.renderOutput(dataTable, element);\n",
              "          const docLink = document.createElement('div');\n",
              "          docLink.innerHTML = docLinkHtml;\n",
              "          element.appendChild(docLink);\n",
              "        }\n",
              "      </script>\n",
              "    </div>\n",
              "  </div>\n",
              "  "
            ]
          },
          "metadata": {},
          "execution_count": 5
        }
      ]
    },
    {
      "cell_type": "code",
      "source": [
        "x=np.array(Datos['Tau_[kg*m]']).reshape(-1,1)\n",
        "y=np.array(Datos['radianes']).reshape(-1,1)\n",
        "\n",
        "plt.plot(x,y)\n",
        "plt.xlabel('Tau_[kg*m]')\n",
        "plt.ylabel('Deflexión en radianes')"
      ],
      "metadata": {
        "colab": {
          "base_uri": "https://localhost:8080/",
          "height": 298
        },
        "id": "KQ_HEzMy0X_q",
        "outputId": "553e8650-6d36-4c22-d40a-d96299b92c4e"
      },
      "execution_count": null,
      "outputs": [
        {
          "output_type": "execute_result",
          "data": {
            "text/plain": [
              "Text(0, 0.5, 'Deflexión en radianes')"
            ]
          },
          "metadata": {},
          "execution_count": 6
        },
        {
          "output_type": "display_data",
          "data": {
            "text/plain": [
              "<Figure size 432x288 with 1 Axes>"
            ],
            "image/png": "[encoded data removed]"
          },
          "metadata": {
            "needs_background": "light"
          }
        }
      ]
    },
    {
      "cell_type": "markdown",
      "source": [
        "Hacemos la regresión lineal"
      ],
      "metadata": {
        "id": "kvSuf30x8BV7"
      }
    },
    {
      "cell_type": "code",
      "source": [
        "reg=lm.LinearRegression()\n",
        "reg.fit(x,y)\n",
        "\n",
        "m=reg.coef_\n",
        "plt.plot(x,y,color='b',label='Valores reales')\n",
        "plt.title('Gráfica torque vs deflexión')\n",
        "plt.plot(x,reg.predict(x),color='r',label='Modelo lineal')\n",
        "plt.xlabel('Tau_[kg*m]')\n",
        "plt.ylabel('Deflexión en radianes')\n",
        "plt.grid()\n",
        "plt.legend()\n",
        "plt.savefig(\"Graphic\")"
      ],
      "metadata": {
        "colab": {
          "base_uri": "https://localhost:8080/",
          "height": 296
        },
        "id": "HI_NmWrJ19BG",
        "outputId": "0fd5297e-b709-45b9-f19a-031b3a432f7c"
      },
      "execution_count": null,
      "outputs": [
        {
          "output_type": "display_data",
          "data": {
            "text/plain": [
              "<Figure size 432x288 with 1 Axes>"
            ],
            "image/png": "[encoded data removed]"
          },
          "metadata": {
            "needs_background": "light"
          }
        }
      ]
    },
    {
      "cell_type": "code",
      "source": [
        "#Debido a que G está dado por Tau/Theta 1/m=G\n",
        "#Además tenemos que 2G(1+nu)=Y\n",
        "#Para G en una torsión sin deformaciones tenemos que G=1/2 Sigma_ij /E_ij\n",
        "#Creo que más bien se refiere a este G\n",
        "G=1/m\n",
        "m"
      ],
      "metadata": {
        "colab": {
          "base_uri": "https://localhost:8080/"
        },
        "id": "MvkX0ph48U3A",
        "outputId": "d0b724af-827b-46f3-871b-bef920f7355f"
      },
      "execution_count": null,
      "outputs": [
        {
          "output_type": "execute_result",
          "data": {
            "text/plain": [
              "74.13217998904086"
            ]
          },
          "metadata": {},
          "execution_count": 10
        }
      ]
    },
    {
      "cell_type": "code",
      "source": [
        "#Promedio del error relativo\n",
        "E_r=sum(abs(y[1:]-reg.predict(x)[1:])/y[1:])/len(x)\n",
        "E_r"
      ],
      "metadata": {
        "colab": {
          "base_uri": "https://localhost:8080/"
        },
        "id": "XnhTv_TZRTyz",
        "outputId": "5c8f550a-dbd2-4ac9-ed4f-683a3c2cfac9"
      },
      "execution_count": null,
      "outputs": [
        {
          "output_type": "execute_result",
          "data": {
            "text/plain": [
              "array([0.04099226])"
            ]
          },
          "metadata": {},
          "execution_count": 11
        }
      ]
    },
    {
      "cell_type": "code",
      "source": [
        "abs(y[1:]-reg.predict(x)[1:])/y[1:]"
      ],
      "metadata": {
        "id": "M1VkSyttacuZ",
        "colab": {
          "base_uri": "https://localhost:8080/"
        },
        "outputId": "829e655a-209e-437f-bc95-dbb4f27a82c5"
      },
      "execution_count": null,
      "outputs": [
        {
          "output_type": "execute_result",
          "data": {
            "text/plain": [
              "array([[0.09740282],\n",
              "       [0.07410964],\n",
              "       [0.04184053],\n",
              "       [0.0195253 ],\n",
              "       [0.01307524]])"
            ]
          },
          "metadata": {},
          "execution_count": 138
        }
      ]
    }
  ]
}