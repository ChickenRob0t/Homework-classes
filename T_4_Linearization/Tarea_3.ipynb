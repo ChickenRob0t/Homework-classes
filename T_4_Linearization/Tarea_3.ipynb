{
  "nbformat": 4,
  "nbformat_minor": 0,
  "metadata": {
    "colab": {
      "provenance": [],
      "authorship_tag": "ABX9TyM2yquxg4DKPl7z4GYXOl/n",
      "include_colab_link": true
    },
    "kernelspec": {
      "name": "python3",
      "display_name": "Python 3"
    },
    "language_info": {
      "name": "python"
    }
  },
  "cells": [
    {
      "cell_type": "markdown",
      "metadata": {
        "id": "view-in-github",
        "colab_type": "text"
      },
      "source": [
        "<a href=\"https://colab.research.google.com/github/ChickenRob0t/Homework-classes/blob/Dynamic-Systems-and-Chaos/T_4_Linearization/Tarea_3.ipynb\" target=\"_parent\"><img src=\"https://colab.research.google.com/assets/colab-badge.svg\" alt=\"Open In Colab\"/></a>"
      ]
    },
    {
      "cell_type": "code",
      "execution_count": null,
      "metadata": {
        "id": "YMZVNEs-Lu5R"
      },
      "outputs": [],
      "source": [
        "import numpy as np\n",
        "import matplotlib.pyplot as plt\n",
        "from scipy.integrate import odeint"
      ]
    },
    {
      "cell_type": "code",
      "source": [
        "#Parte 1, función que regrese con q1 y p1 todo x_0\n",
        "def x0(q_1,p_1,E):\n",
        "  p_2=np.sqrt(2*m*E-m**2*w**2*q_1**2-p_1**2)\n",
        "  return (q_1,0,p_1,p_2) "
      ],
      "metadata": {
        "id": "Bt6xPR7KPQzt"
      },
      "execution_count": null,
      "outputs": []
    },
    {
      "cell_type": "code",
      "source": [
        "#Adicional, una función que dé valores posibles de E con una configuración inicial xd\n",
        "def E_c(q_1,q_2,p_1,p_2):\n",
        "  E=(p_1**2+p_2**2)/(2*m)+ m*w**2/2 * (q_1**2+q_2**2)+ alpha*q_1**2*q_2**2\n",
        "  return E"
      ],
      "metadata": {
        "id": "R4GMJcAWBdkm"
      },
      "execution_count": null,
      "outputs": []
    },
    {
      "cell_type": "code",
      "source": [
        "#Re-utilizamos la función 'giro' de la clase pasada cx, ciertas modificaciones\n",
        "def giro_2(q_a,v_a,t_0,t_f,cut,alpha):\n",
        "  x_0=np.append(q_a,v_a)\n",
        "  zero_m=np.zeros((4,4))\n",
        "  \n",
        "  def RHS_2(x,t):\n",
        "    w_m=[[-w**2, -2*alpha/m *x[0]*x[1]],[-2*alpha/m *x[0]*x[1], -w**2]]\n",
        "    zero_m[2:,:2]=w_m\n",
        "    zero_m[:2,2:]=np.eye(2,2)\n",
        "\n",
        "    return np.matmul(zero_m,x)\n",
        "\n",
        "  t=np.linspace(t_0,t_f,cut)\n",
        "  return odeint(RHS_2,x_0,t)"
      ],
      "metadata": {
        "id": "BDyDXkvBL9B5"
      },
      "execution_count": null,
      "outputs": []
    },
    {
      "cell_type": "code",
      "source": [
        "def cero(q1,q2,t1,t2):\n",
        "  return (t2-t1)/(q1-q2) * q1 + t1\n",
        "  #Entrega el valor de t cuando q=0 (interpolación lineal)"
      ],
      "metadata": {
        "id": "U1s4Pe2_cSZ2"
      },
      "execution_count": null,
      "outputs": []
    },
    {
      "cell_type": "code",
      "source": [
        "def Poin(x):\n",
        "  for i in range(1, len(x)):\n",
        "    if (x[i-1,1] >= 0 and x[i,1] < 0 and x[i,3] > 0) or (x[i-1,1] < 0 and x[i,1] >= 0 and x[i,3]>0):\n",
        "      return i\n",
        "\n",
        "  return None"
      ],
      "metadata": {
        "id": "78lVBjrss8O7"
      },
      "execution_count": null,
      "outputs": []
    },
    {
      "cell_type": "code",
      "source": [
        "def Poin_care(vec,s=True):  #Vector arreglo [q1,p1,t]\n",
        "  q_i,p_i,t_a= vec[0],vec[1],vec[2]      \n",
        "  t_f=t_a+5\n",
        "  \n",
        "\n",
        "  q_1,q_2,p_1,p_2 = x0(q_i,p_i,e_c)\n",
        "  \n",
        "  #else:\n",
        "    #q_1=q_2=0\n",
        "    #p_1=p_2=np.sqrt(m*e_c)\n",
        "  \n",
        "  dt=(t_f-t_a)/cut\n",
        "\n",
        "  q_a=np.append(q_1,q_2)\n",
        "  v_a=np.append(p_1/m,p_2/m)\n",
        "\n",
        "  x_0=giro_2(q_a,v_a,t_a,t_f,cut,alpha) #Función de la tarea pasada\n",
        "  \n",
        "  \n",
        "  a=Poin(x_0)                    \n",
        "  \n",
        " \n",
        "\n",
        "  q2_1,q2_2=x_0[a-1,1],x_0[a,1]       #Valores del tiempo y posiciones\n",
        "  t_1, t_2= dt*(a-1) , dt*a           #Para sacar t cuando q2=0\n",
        "\n",
        "  q1_1,q1_2=x_0[a-1,0],x_0[a,0]      #Valores de q1 y v1 en esos puntos\n",
        "  v1_1,v1_2=x_0[a-1,2],x_0[a,2]\n",
        "\n",
        "\n",
        "\n",
        "  \n",
        "  t_00=cero(q2_1,q2_2,t_1,t_2)   #Interpolación lineal de t (usando los valores de q2)\n",
        "  t_0=t_a+t_00\n",
        "  \n",
        "\n",
        "  #print(max(x_0[:,2]))\n",
        "\n",
        "  q_0= (q1_2-q1_1)/(t_2-t_1) *t_00  + cero(t_1,t_2,q1_1,q1_2) #Interpolaciones lineales para encontrar 'b'\n",
        "  v_0= (v1_2-v1_1)/(t_2-t_1) *t_00 + cero(t_1,t_2,v1_1,v1_2)\n",
        "\n",
        "  #print(q1_1,q_0,q1_2)\n",
        "  #print(v1_1,v_0,v1_2)\n",
        "  #print(q2_1,q2_2,x_0[a+1,1])\n",
        "  #print(t_1,t_00,t_2)\n",
        "  #print(x_0[a,3])\n",
        "  #print('----------------')\n",
        "  \n",
        "\n",
        "  return [q_0,v_0*m,t_0]\n"
      ],
      "metadata": {
        "id": "CtyKhC_d1ReX"
      },
      "execution_count": null,
      "outputs": []
    },
    {
      "cell_type": "code",
      "source": [
        "#Condiciones iniciales\n",
        "alpha=0.5\n",
        "w=np.pi/2\n",
        "m=5\n",
        "\n",
        "cut=500\n",
        "t0=0\n",
        "t1=2\n",
        "\n",
        "q_test=[40,30]\n",
        "v_test=[8,-10]\n",
        "\n",
        "e_c=E_c(q_test[0],q_test[1],v_test[0],v_test[1])\n",
        "e_c"
      ],
      "metadata": {
        "id": "u28nSupOrr2c",
        "colab": {
          "base_uri": "https://localhost:8080/"
        },
        "outputId": "af4d9adf-489e-4f4a-c1cb-27d708eeaf27"
      },
      "execution_count": null,
      "outputs": [
        {
          "output_type": "execute_result",
          "data": {
            "text/plain": [
              "735437.6568767021"
            ]
          },
          "metadata": {},
          "execution_count": 8
        }
      ]
    },
    {
      "cell_type": "code",
      "source": [
        "Poin_points=[[25,420,0]]\n",
        "\n",
        "for i in range(400):\n",
        "  Poin_points.append(Poin_care(Poin_points[i]))\n",
        "\n",
        "\n",
        "Poin_points=np.array(Poin_points)"
      ],
      "metadata": {
        "id": "k5PnSKTnVuje"
      },
      "execution_count": null,
      "outputs": []
    },
    {
      "cell_type": "code",
      "source": [
        "plt.scatter(Poin_points[:400,0], Poin_points[:400,1],marker='.', c='r')\n",
        "#plt.scatter(Poin_points[10:20,0], Poin_points[10:20,1],marker='.',c='r')\n",
        "#plt.scatter(Poin_points[20:30,0], Poin_points[20:30,1],marker='.',c='k')\n",
        "#plt.scatter(Poin_points[30:50,0], Poin_points[30:50,1],marker='.',c='b')\n",
        "#plt.scatter(Poin_points[50:70,0], Poin_points[50:70,1],marker='.',c='k')\n",
        "#plt.scatter(Poin_points[70:100,0], Poin_points[70:100,1],marker='.',c='y')\n",
        "#plt.scatter(Poin_points[100:200,0], Poin_points[100:200,1],marker='.', c='r')\n",
        "#plt.scatter(Poin_points[200:300,0], Poin_points[200:300,1],marker='.', c='r')\n",
        "#plt.scatter(Poin_points[300:400,0], Poin_points[300:400,1],marker='.', c='b')\n",
        "\n",
        "plt.xlabel('Posición q1')\n",
        "plt.ylabel('Velocidad v1')\n",
        "plt.title('Mapa de Poincaré q2=0, p2>0')\n",
        "plt.savefig('Mapa_poin.png',dpi=200)"
      ],
      "metadata": {
        "colab": {
          "base_uri": "https://localhost:8080/",
          "height": 296
        },
        "id": "c2USyw7g9R7T",
        "outputId": "d279ef33-4738-48b2-f61a-33d5cd7e5990"
      },
      "execution_count": null,
      "outputs": [
        {
          "output_type": "display_data",
          "data": {
            "text/plain": [
              "<Figure size 432x288 with 1 Axes>"
            ],
            "image/png": "[encoded data removed]"
          },
          "metadata": {
            "needs_background": "light"
          }
        }
      ]
    },
    {
      "cell_type": "markdown",
      "source": [
        "##**Aquí comienza la parte de la tarea 4**"
      ],
      "metadata": {
        "id": "tGDAdz1QVi0z"
      }
    },
    {
      "cell_type": "code",
      "source": [
        "def extra_points(vec_2,a=True):\n",
        "  a=[]\n",
        "  for i in range(len(vec_2)):\n",
        "    a.append(Poin_care(vec_2[i],a))\n",
        "  return a"
      ],
      "metadata": {
        "id": "cezq5XSzTGiB"
      },
      "execution_count": null,
      "outputs": []
    },
    {
      "cell_type": "code",
      "source": [
        "#Esta es una manera de generar puntos alrededor\n",
        "dp=0.1\n",
        "dq=0.1\n",
        "po_1=[np.array([0,350,0])]\n",
        "\n",
        "dpq=np.array([dq,dp,0])\n",
        "dqp=np.array([-dq,dp,0])\n",
        "\n",
        "for i in range(1,10):\n",
        "  po_1.append( po_1[i-1]+ i* dpq )\n",
        "  po_1.append(po_1[i-1]- i* dpq )\n",
        "  po_1.append(po_1[i-1]+i*dqp )\n",
        "  po_1.append(po_1[i-1]-i*dqp )\n"
      ],
      "metadata": {
        "id": "dUcPthgl_RSj"
      },
      "execution_count": null,
      "outputs": []
    },
    {
      "cell_type": "code",
      "source": [
        "#Esta es otra forma de generar los valores aleatorios, está un poquito más bonita cx\n",
        "\n",
        "lis=[0.0, 350, 0]\n",
        "\n",
        "def aleat(lis,num,bot,top):\n",
        "  pp_1 = np.array([lis] * num, dtype='float64')\n",
        "  dp = np.random.uniform(bot, top, num)\n",
        "  dq = np.random.uniform(bot, top, num)\n",
        "  \n",
        "  pp_1[:, 0] += dp\n",
        "  pp_1[:, 1] += dq\n",
        "\n",
        "  return list(pp_1)\n",
        "\n",
        "ps=np.array(aleat(lis,20,-1,1))\n",
        "plt.scatter(ps[:,0],ps[:,1])"
      ],
      "metadata": {
        "colab": {
          "base_uri": "https://localhost:8080/",
          "height": 283
        },
        "id": "adxd0OMIS8rd",
        "outputId": "ec13e4d3-8397-4d5d-e13c-e6f896329e95"
      },
      "execution_count": null,
      "outputs": [
        {
          "output_type": "execute_result",
          "data": {
            "text/plain": [
              "<matplotlib.collections.PathCollection at 0x7fbd147812b0>"
            ]
          },
          "metadata": {},
          "execution_count": 14
        },
        {
          "output_type": "display_data",
          "data": {
            "text/plain": [
              "<Figure size 432x288 with 1 Axes>"
            ],
            "image/png": "[encoded data removed]"
          },
          "metadata": {
            "needs_background": "light"
          }
        }
      ]
    },
    {
      "cell_type": "markdown",
      "source": [
        "Aquí ya hacemos los puntos en el mapa de Poincaré"
      ],
      "metadata": {
        "id": "4MkeXcmy3l24"
      }
    },
    {
      "cell_type": "code",
      "source": [
        "#Para el primer punto en el origen\n",
        "po_1=[0,0,0]\n",
        "po_1=aleat(po_1,100,-0.5,0.5)\n",
        "\n",
        "points_f=np.array(extra_points(po_1))\n",
        "\n",
        "po_1=np.array(po_1)"
      ],
      "metadata": {
        "id": "vqiwxI-Q3r4O"
      },
      "execution_count": null,
      "outputs": []
    },
    {
      "cell_type": "code",
      "source": [
        "plt.scatter(points_f[:,0],points_f[:,1],c='r')\n",
        "plt.scatter(po_1[:,0],po_1[:,1], c='b')\n",
        "plt.xlim(-1,1)\n",
        "plt.ylim(-10,10)\n",
        "plt.xlabel('$q_1$')\n",
        "plt.ylabel('$p_1$')\n",
        "plt.savefig('Perturbacion_1.png',dpi=200)"
      ],
      "metadata": {
        "colab": {
          "base_uri": "https://localhost:8080/",
          "height": 285
        },
        "id": "X4hQgQnk389P",
        "outputId": "d545b715-2785-43af-8765-8f99fb5383d4"
      },
      "execution_count": null,
      "outputs": [
        {
          "output_type": "display_data",
          "data": {
            "text/plain": [
              "<Figure size 432x288 with 1 Axes>"
            ],
            "image/png": "[encoded data removed]"
          },
          "metadata": {
            "needs_background": "light"
          }
        }
      ]
    },
    {
      "cell_type": "code",
      "source": [
        "#Para el segundo punto en q's y p's iguales\n",
        "po_2=[0,np.sqrt(m*e_c),0]\n",
        "po_2=aleat(po_2,100,-0.1,0.1)\n",
        "\n",
        "points2_f=np.array(extra_points(po_2))\n",
        "po_2=np.array(po_2)"
      ],
      "metadata": {
        "id": "ce3vgnZm4joa"
      },
      "execution_count": null,
      "outputs": []
    },
    {
      "cell_type": "code",
      "source": [
        "plt.scatter(points2_f[:,0],points2_f[:,1],c='r')\n",
        "plt.scatter(po_2[:,0],po_2[:,1], c='b')\n",
        "#plt.xlim(-1,1)\n",
        "#plt.ylim(-10,10)\n",
        "plt.xlabel('$q_1$')\n",
        "plt.ylabel('$p_1$')\n",
        "plt.savefig('Perturbacion_2.png',dpi=200)"
      ],
      "metadata": {
        "colab": {
          "base_uri": "https://localhost:8080/",
          "height": 281
        },
        "id": "VcSyv7s19Zfv",
        "outputId": "135dee95-0df8-4ad0-f555-cb1ef909f25e"
      },
      "execution_count": null,
      "outputs": [
        {
          "output_type": "display_data",
          "data": {
            "text/plain": [
              "<Figure size 432x288 with 1 Axes>"
            ],
            "image/png": "[encoded data removed]"
          },
          "metadata": {
            "needs_background": "light"
          }
        }
      ]
    },
    {
      "cell_type": "code",
      "source": [
        "#Nota para mí, al parecer el punto en el mapa de Poincaré de q_1=q_2 y p_1=p_2 es tan caótico que con la función que generamos no es suficiente\n",
        "#Para que se converja a un punto a través de las iteraciones, esto podría ser por el cálculo con la regresión lineal que no sea muy exacto"
      ],
      "metadata": {
        "id": "amp_6kEH9kN6"
      },
      "execution_count": null,
      "outputs": []
    },
    {
      "cell_type": "markdown",
      "source": [
        "*Linearización del mapeo para encontrar qué tipo de puntos son*"
      ],
      "metadata": {
        "id": "P0FV3mR0EyRx"
      }
    },
    {
      "cell_type": "code",
      "source": [
        "#Primero nos aseguramos que funcione el mapeo\n",
        "os_arm=[[0,0,0]]\n",
        "q_p=[[0,np.sqrt(m*e_c),0]]\n",
        "\n",
        "for i in range(6):\n",
        "  os_arm.append(Poin_care(os_arm[i]))\n",
        "  q_p.append(Poin_care(q_p[i]))\n",
        "\n",
        "os_arm=np.array(os_arm)\n",
        "q_p=np.array(q_p)\n",
        "\n",
        "plt.scatter(os_arm[:,0],os_arm[:,1], c='r')\n",
        "plt.scatter(q_p[:,0],q_p[:,1],c='b')\n",
        "plt.xlabel('Posición q')\n",
        "plt.ylabel('Momento p')\n",
        "plt.xlim(-4,4)\n",
        "plt.title('Superficie de Poincaré')\n",
        "plt.savefig('Superficie_bien.png',dpi=200)\n",
        "#Esto ya nos indica que está bien, prácticamente quedan en la misma posición los puntos"
      ],
      "metadata": {
        "colab": {
          "base_uri": "https://localhost:8080/",
          "height": 296
        },
        "id": "t6l-h43nEwbK",
        "outputId": "f29adf69-2ace-4093-c86e-2328da158e62"
      },
      "execution_count": null,
      "outputs": [
        {
          "output_type": "display_data",
          "data": {
            "text/plain": [
              "<Figure size 432x288 with 1 Axes>"
            ],
            "image/png": "[encoded data removed]"
          },
          "metadata": {
            "needs_background": "light"
          }
        }
      ]
    },
    {
      "cell_type": "code",
      "source": [
        "os_arm\n",
        "#Aquí la primera intersección debería ser en 4, ya que w=pi/2 y con T=2pi/w  nos deja T=4, esto nos entrega una diferencia de aproximadamente 8*10^-3"
      ],
      "metadata": {
        "colab": {
          "base_uri": "https://localhost:8080/"
        },
        "id": "85L848MlFqY7",
        "outputId": "83662849-54a9-45b3-b57c-7a22a066e320"
      },
      "execution_count": null,
      "outputs": [
        {
          "output_type": "execute_result",
          "data": {
            "text/plain": [
              "array([[ 0.        ,  0.        ,  0.        ],\n",
              "       [ 0.        ,  0.        ,  3.99200006],\n",
              "       [ 0.        ,  0.        ,  7.98400012],\n",
              "       [ 0.        ,  0.        , 11.97600018],\n",
              "       [ 0.        ,  0.        , 15.96800024],\n",
              "       [ 0.        ,  0.        , 19.9600003 ],\n",
              "       [ 0.        ,  0.        , 23.95200035]])"
            ]
          },
          "metadata": {},
          "execution_count": 97
        }
      ]
    },
    {
      "cell_type": "code",
      "source": [
        "dp=0.01\n",
        "dq=0.01\n",
        "os_q=[0+dq,0,0]\n",
        "os_p=[0,0+dp,0]\n",
        "\n",
        "pq_p=[0,np.sqrt(m*e_c)+dp,0]\n",
        "pq_q=[0+dq,np.sqrt(m*e_c),0]\n",
        "\n",
        "h=0.01\n",
        "\n",
        "#Para p=q\n",
        "l1_pq=np.array(pq_q)[:2] -np.array(Poin_care(pq_q))[:2] / h\n",
        "\n",
        "l2_pq=np.array(pq_p)[:2] -np.array(Poin_care(pq_p))[:2] / h \n",
        "\n",
        "#Para el oscilador\n",
        "l1_os=np.array(os_q)[:2]-np.array(Poin_care(os_q))[:2] / h\n",
        "\n",
        "l2_os=np.array(os_p)[:2] -np.array(Poin_care(os_p))[:2] / h "
      ],
      "metadata": {
        "id": "eXhHCIkpGLKu"
      },
      "execution_count": null,
      "outputs": []
    },
    {
      "cell_type": "code",
      "source": [
        "L1=np.column_stack((l1_os,l2_os))\n",
        "L2=np.column_stack((l1_pq,l2_pq))\n",
        "\n",
        "eigenvalues_1, eigenvectors_1 = np.linalg.eig(L1)\n",
        "eigenvalues_2, eigenvectors_2 = np.linalg.eig(L2)"
      ],
      "metadata": {
        "id": "xYPz7sXGIfjj"
      },
      "execution_count": null,
      "outputs": []
    },
    {
      "cell_type": "code",
      "source": [
        "eigenvalues_2\n",
        "#eigenvectors_2"
      ],
      "metadata": {
        "colab": {
          "base_uri": "https://localhost:8080/"
        },
        "id": "ScaOSvGVOdHZ",
        "outputId": "1a1c3300-c0b4-4f68-f9c8-ef7bf15d6a0b"
      },
      "execution_count": null,
      "outputs": [
        {
          "output_type": "execute_result",
          "data": {
            "text/plain": [
              "array([-5.66257830e+01, -1.89897804e+05])"
            ]
          },
          "metadata": {},
          "execution_count": 110
        }
      ]
    },
    {
      "cell_type": "code",
      "source": [],
      "metadata": {
        "id": "wjbthc4AmJtc"
      },
      "execution_count": null,
      "outputs": []
    }
  ]
}